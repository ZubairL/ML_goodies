{
 "cells": [
  {
   "cell_type": "code",
   "execution_count": 1,
   "id": "501d1897",
   "metadata": {},
   "outputs": [],
   "source": [
    "import numpy as np"
   ]
  },
  {
   "cell_type": "code",
   "execution_count": 2,
   "id": "27bd46ea",
   "metadata": {},
   "outputs": [
    {
     "name": "stdout",
     "output_type": "stream",
     "text": [
      "Eigenvalues (rounded to 5 decimals): [-0.  0.  2.  4.  4.]\n",
      "Indices of zero eigenvalues: [0, 1]\n",
      "Eigenvectors corresponding to zero eigenvalues:\n",
      "[[ 0.5  0. ]\n",
      " [ 0.5  0. ]\n",
      " [ 0.5  0. ]\n",
      " [ 0.  -1. ]\n",
      " [ 0.5  0. ]]\n"
     ]
    }
   ],
   "source": [
    "#Question 1.6\n",
    "\n",
    "#calculated manually\n",
    "L = np.array([\n",
    "    [2, -1,  0,  0, -1],\n",
    "    [-1, 3, -1,  0, -1],\n",
    "    [0, -1,  2,  0, -1],\n",
    "    [0,  0,  0,  0,  0],\n",
    "    [-1, -1, -1,  0,  3]\n",
    "])\n",
    "\n",
    "eigenvalues, eigenvectors = np.linalg.eigh(L)\n",
    "\n",
    "\n",
    "zero_eigenvalue_indices = []\n",
    "for i, val in enumerate(np.around(eigenvalues, decimals=5)):\n",
    "    # Check if the eigenvalue is 0\n",
    "    if val == 0:\n",
    "        \n",
    "        zero_eigenvalue_indices.append(i)\n",
    "\n",
    "        \n",
    "print(\"Eigenvalues (rounded to 5 decimals):\", np.around(eigenvalues, decimals=5))\n",
    "\n",
    "print(\"Indices of zero eigenvalues:\", zero_eigenvalue_indices)\n",
    "\n",
    "cluster_vectors = eigenvectors[:, zero_eigenvalue_indices]\n",
    "print(\"Eigenvectors corresponding to zero eigenvalues:\")\n",
    "print(cluster_vectors)\n"
   ]
  },
  {
   "cell_type": "code",
   "execution_count": null,
   "id": "9ac93011",
   "metadata": {},
   "outputs": [],
   "source": []
  }
 ],
 "metadata": {
  "kernelspec": {
   "display_name": "Python 3 (ipykernel)",
   "language": "python",
   "name": "python3"
  },
  "language_info": {
   "codemirror_mode": {
    "name": "ipython",
    "version": 3
   },
   "file_extension": ".py",
   "mimetype": "text/x-python",
   "name": "python",
   "nbconvert_exporter": "python",
   "pygments_lexer": "ipython3",
   "version": "3.9.12"
  }
 },
 "nbformat": 4,
 "nbformat_minor": 5
}
